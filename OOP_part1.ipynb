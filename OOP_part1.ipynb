{
 "cells": [
  {
   "cell_type": "markdown",
   "metadata": {},
   "source": [
    "# Python Classes/Objects"
   ]
  },
  {
   "cell_type": "markdown",
   "metadata": {},
   "source": [
    "## Create Class"
   ]
  },
  {
   "cell_type": "code",
   "execution_count": 3,
   "metadata": {},
   "outputs": [],
   "source": [
    "class MyClass:\n",
    "    y = 5"
   ]
  },
  {
   "cell_type": "markdown",
   "metadata": {},
   "source": [
    "## Create Object"
   ]
  },
  {
   "cell_type": "code",
   "execution_count": 5,
   "metadata": {},
   "outputs": [
    {
     "name": "stdout",
     "output_type": "stream",
     "text": [
      "5\n"
     ]
    }
   ],
   "source": [
    "p1 = MyClass()\n",
    "print(p1.y)"
   ]
  },
  {
   "cell_type": "markdown",
   "metadata": {},
   "source": [
    "## Constructer"
   ]
  },
  {
   "cell_type": "markdown",
   "metadata": {},
   "source": [
    "The __init__() Function\n",
    "The examples above are classes and objects in their simplest form, and are not really useful in real life applications.\n",
    "\n",
    "To understand the meaning of classes we have to understand the built-in __init__() function.\n",
    "\n",
    "All classes have a function called __init__(), which is always executed when the class is being initiated.\n",
    "\n",
    "Use the __init__() function to assign values to object properties, or other operations that are necessary to do when the object is being created:"
   ]
  },
  {
   "cell_type": "code",
   "execution_count": 3,
   "metadata": {},
   "outputs": [
    {
     "name": "stdout",
     "output_type": "stream",
     "text": [
      "John\n",
      "36\n"
     ]
    }
   ],
   "source": [
    "class Person:\n",
    "    def __init__(self, name, age):\n",
    "        self.name = name\n",
    "        self.age = age\n",
    "\n",
    "p1 = Person(\"John\", 36)\n",
    "\n",
    "print(p1.name)\n",
    "print(p1.age)"
   ]
  },
  {
   "cell_type": "markdown",
   "metadata": {},
   "source": [
    "## Object Methods"
   ]
  },
  {
   "cell_type": "code",
   "execution_count": 6,
   "metadata": {},
   "outputs": [
    {
     "name": "stdout",
     "output_type": "stream",
     "text": [
      "Hello my name is John\n"
     ]
    }
   ],
   "source": [
    "class Person:\n",
    "    def __init__(self, name, age):\n",
    "        self.name = name\n",
    "        self.age = age\n",
    "\n",
    "    def myfunc(self):\n",
    "        print(\"Hello my name is \" + self.name)\n",
    "\n",
    "p1 = Person(\"John\", 36)\n",
    "p1.myfunc()"
   ]
  },
  {
   "cell_type": "markdown",
   "metadata": {},
   "source": [
    "## The self Parameter\n",
    "The self parameter is a reference to the current instance of the class, and is used to access variables that belongs to the class.\n",
    "\n",
    "It does not have to be named self , you can call it whatever you like, but it has to be the first parameter of any function in the class:"
   ]
  },
  {
   "cell_type": "code",
   "execution_count": 8,
   "metadata": {},
   "outputs": [
    {
     "name": "stdout",
     "output_type": "stream",
     "text": [
      "John\n",
      "Hello my name is John\n"
     ]
    }
   ],
   "source": [
    "class Person:\n",
    "    def __init__(person, name, age):\n",
    "        person.name = name\n",
    "        person.age = age\n",
    "\n",
    "    def myfunc(abc):\n",
    "        print(\"Hello my name is \" + abc.name)\n",
    "\n",
    "p1 = Person(\"John\", 36)\n",
    "print(p1.name)\n",
    "p1.myfunc()"
   ]
  },
  {
   "cell_type": "markdown",
   "metadata": {},
   "source": [
    "## Destructor"
   ]
  },
  {
   "cell_type": "code",
   "execution_count": 9,
   "metadata": {},
   "outputs": [
    {
     "name": "stdout",
     "output_type": "stream",
     "text": [
      "Employee created.\n",
      "Destructor called, Employee deleted.\n"
     ]
    }
   ],
   "source": [
    "class Employee:\n",
    "  \n",
    "    # Initializing\n",
    "    def __init__(self):\n",
    "        print('Employee created.')\n",
    "  \n",
    "    # Deleting (Calling destructor)\n",
    "    def __del__(self):\n",
    "        print('Destructor called, Employee deleted.')\n",
    "  \n",
    "obj = Employee()\n",
    "del(obj)"
   ]
  },
  {
   "cell_type": "code",
   "execution_count": null,
   "metadata": {},
   "outputs": [
    {
     "name": "stdout",
     "output_type": "stream",
     "text": [
      "Calling Create_obj() function...\n",
      "Making Object...\n",
      "Employee created\n",
      "function end...\n",
      "Program End...\n"
     ]
    }
   ],
   "source": [
    "class Employee:\n",
    "  \n",
    "    # Initializing \n",
    "    def __init__(self):\n",
    "        print('Employee created')\n",
    "  \n",
    "    # Calling destructor\n",
    "    def __del__(self):\n",
    "        print(\"Destructor called\")\n",
    "  \n",
    "def Create_obj():\n",
    "    print('Making Object...')\n",
    "    obj = Employee()\n",
    "    print('function end...')\n",
    "    return obj\n",
    "  \n",
    "print('Calling Create_obj() function...')\n",
    "obj = Create_obj()\n",
    "print('Program End...')"
   ]
  },
  {
   "cell_type": "code",
   "execution_count": null,
   "metadata": {},
   "outputs": [],
   "source": []
  }
 ],
 "metadata": {
  "kernelspec": {
   "display_name": "Python 3",
   "language": "python",
   "name": "python3"
  },
  "language_info": {
   "codemirror_mode": {
    "name": "ipython",
    "version": 3
   },
   "file_extension": ".py",
   "mimetype": "text/x-python",
   "name": "python",
   "nbconvert_exporter": "python",
   "pygments_lexer": "ipython3",
   "version": "3.8.5"
  }
 },
 "nbformat": 4,
 "nbformat_minor": 4
}
